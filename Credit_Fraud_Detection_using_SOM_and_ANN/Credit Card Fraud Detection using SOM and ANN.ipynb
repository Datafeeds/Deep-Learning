{
 "cells": [
  {
   "cell_type": "markdown",
   "metadata": {},
   "source": [
    "# Project Information"
   ]
  },
  {
   "cell_type": "markdown",
   "metadata": {},
   "source": [
    "#### Data Source\n",
    "http://archive.ics.uci.edu/ml/datasets/statlog+(australian+credit+approval)"
   ]
  },
  {
   "cell_type": "markdown",
   "metadata": {},
   "source": [
    "#### Data Set Information\n",
    "This file concerns credit card applications. All attribute names and values have been changed to meaningless symbols to protect confidentiality of the data. \n",
    "\n",
    "This dataset is interesting because there is a good mix of attributes -- continuous, nominal with small numbers of values, and nominal with larger numbers of values. There are also a few missing values. "
   ]
  },
  {
   "cell_type": "markdown",
   "metadata": {},
   "source": [
    "#### Attribute Information"
   ]
  },
  {
   "cell_type": "raw",
   "metadata": {},
   "source": [
    "There are 6 numerical and 8 categorical attributes. The labels have been changed for the convenience of the statistical algorithms. For example, attribute 4 originally had 3 labels p,g,gg and these have been changed to labels 1,2,3. \n",
    "\n",
    "A1: 0,1 CATEGORICAL (formerly: a,b) \n",
    "A2: continuous. \n",
    "A3: continuous. \n",
    "A4: 1,2,3 CATEGORICAL (formerly: p,g,gg) \n",
    "A5: 1, 2,3,4,5, 6,7,8,9,10,11,12,13,14 CATEGORICAL (formerly: ff,d,i,k,j,aa,m,c,w, e, q, r,cc, x) \n",
    "A6: 1, 2,3, 4,5,6,7,8,9 CATEGORICAL (formerly: ff,dd,j,bb,v,n,o,h,z) \n",
    "A7: continuous. \n",
    "A8: 1, 0 CATEGORICAL (formerly: t, f) \n",
    "A9: 1, 0\tCATEGORICAL (formerly: t, f) \n",
    "A10: continuous. \n",
    "A11: 1, 0\tCATEGORICAL (formerly t, f) \n",
    "A12: 1, 2, 3 CATEGORICAL (formerly: s, g, p) \n",
    "A13: continuous. \n",
    "A14: continuous. \n",
    "class: 0,1 class attribute (formerly: +,-)"
   ]
  },
  {
   "cell_type": "markdown",
   "metadata": {},
   "source": [
    "#### Problem Statement"
   ]
  },
  {
   "cell_type": "raw",
   "metadata": {},
   "source": [
    "In the 1st part we will design unsupervised deep learning model - Self Organizing Map. Here we will predict the potential fraud customer.\n",
    "In the second part, we will use the information gained from the 1st part and determine whether a customer is fraudulent and then desing a supervised artificial neural net(ANN) model to determine the probability of fraud for all customers. \n",
    "At the end, we will have the ranking of the predicted probability that each customer cheated."
   ]
  },
  {
   "cell_type": "markdown",
   "metadata": {},
   "source": [
    "# Self Organizing Map"
   ]
  },
  {
   "cell_type": "markdown",
   "metadata": {},
   "source": [
    "#### Data Preprocessing"
   ]
  },
  {
   "cell_type": "code",
   "execution_count": 15,
   "metadata": {
    "collapsed": true
   },
   "outputs": [],
   "source": [
    "# Importing the libraries\n",
    "import numpy as np\n",
    "import pandas as pd\n",
    "\n",
    "# Importing the dataset\n",
    "dataset = pd.read_csv('Credit_Card_Applications.csv')\n",
    "# Here the data is split to X and y not as features and label. Instead, its just to analyze later if a fraudulent application \n",
    "# is approved and vice-versa\n",
    "# We will only use X afterwards in our SOM model\n",
    "X = dataset.iloc[:, :-1].values\n",
    "y = dataset.iloc[:, -1].values\n",
    "\n",
    "# Feature Scaling\n",
    "# Using Normalization technique for feature scaling\n",
    "# As long as we are using the sigmoid function at the output layer of ANN, its recommended to use normalised scaler\n",
    "# instead of standard scaler\n",
    "from sklearn.preprocessing import MinMaxScaler\n",
    "sc = MinMaxScaler(feature_range = (0, 1))\n",
    "X = sc.fit_transform(X)"
   ]
  },
  {
   "cell_type": "markdown",
   "metadata": {},
   "source": [
    "#### Training the SOM"
   ]
  },
  {
   "cell_type": "code",
   "execution_count": 16,
   "metadata": {
    "collapsed": false
   },
   "outputs": [],
   "source": [
    "# MiniSom class was referenced from https://testpypi.python.org/pypi/MiniSom/1.0\n",
    "from minisom import MiniSom\n",
    "\n",
    "# creating som object\n",
    "som = MiniSom( x = 10, y = 10,\n",
    "              # making 10X10 grid. Needs to be chosen based on the dataset we are processing(specially number of i/p variables)\n",
    "              input_len = 15, # number of features(in X not in original dataset as we are excluding class column)\n",
    "              sigma = 1, # radius of the neighnourhood in the grid\n",
    "              learning_rate = 0.5, # hyperparameter candidate\n",
    "              decay_function = None # option to speed up the convergence\n",
    ")\n",
    "# Initializing the weights()random initialization\n",
    "som.random_weights_init(X)\n",
    "# Trainign the SOM on X\n",
    "som.train_random(data = X, num_iteration = 100)"
   ]
  },
  {
   "cell_type": "markdown",
   "metadata": {},
   "source": [
    "#### Visualizing the Results"
   ]
  },
  {
   "cell_type": "code",
   "execution_count": 17,
   "metadata": {
    "collapsed": false
   },
   "outputs": [
    {
     "data": {
      "image/png": "iVBORw0KGgoAAAANSUhEUgAAAWAAAAD8CAYAAABJsn7AAAAABHNCSVQICAgIfAhkiAAAAAlwSFlz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\n",
      "text/plain": [
       "<matplotlib.figure.Figure at 0x1c57e2f7550>"
      ]
     },
     "metadata": {},
     "output_type": "display_data"
    }
   ],
   "source": [
    "# Plotting the trained SOM itself\n",
    "# mean of the distances of all neurons around the 'winning node' inside the neighbourhood we define\n",
    "\n",
    "from pylab import bone, pcolor, colorbar, plot, show\n",
    "# Initializing the figure\n",
    "bone()\n",
    "# putting different winning node in the map\n",
    "pcolor(som.distance_map().T) # return a matrix containing all the mean neuron distances for all the winning nodes\n",
    "# adding the legend of the colors\n",
    "colorbar()\n",
    "show()"
   ]
  },
  {
   "cell_type": "markdown",
   "metadata": {},
   "source": [
    "The white blocks(largest mean neuron distance because white represents 1(max mean neuron distance)) represents the potential fraud. "
   ]
  },
  {
   "cell_type": "markdown",
   "metadata": {},
   "source": [
    "We can add some marker to make a distiction between approved and non-approved customers. i.e customers who cheated and got approved are mroe dangerous than the customers whose applicaiions were denied."
   ]
  },
  {
   "cell_type": "code",
   "execution_count": 18,
   "metadata": {
    "collapsed": false
   },
   "outputs": [
    {
     "data": {
      "image/png": "iVBORw0KGgoAAAANSUhEUgAAAWAAAAD8CAYAAABJsn7AAAAABHNCSVQICAgIfAhkiAAAAAlwSFlz\nAAALEgAACxIB0t1+/AAAIABJREFUeJzsnXd8FGX+x9/PbnqvgCQoIL2oiHTFCiIonuUUFAs27uye\n5Tz7efqznJwVFFSwIKKCJUq3IlVEaaGJESGBhPRGSNl9fn/Mzu4mu9k2k80mzJvXvrIz8zDf2ezs\nJ89+n28RUkoMDAwMDIKPqbUvwMDAwOBYxRBgAwMDg1bCEGADAwODVsIQYAMDA4NWwhBgAwMDg1bC\nEGADAwODVsKrAAsh5gghDgshtjvtSxFCrBRC/Gb7mdyyl2lgYGDQerjTwSbHhRDiFSHEXiHEViHE\nqb6c15cZ8DvAuCb7HgS+kVL2BL6xbRsYGBi0V97BVQeduQDoaXvcArzuy0m9CrCUchVQ0mT3xcC7\ntufvAn/xxZiBgYFBW6QZHXTmYuA9qbAeSBJCHOftvGEBXk9HKeUh2/N8oGNzA4UQt6D8RQAYHKA9\nv4iMjAmGGQCsVkvQbAXrdSWkJAbFDkDtkdqg2TpSXRU0Ww0NdUGzFRERHRQ7wbzXAWpqKouklOmB\n/v9x48bJoqIin8Zu2rQpGzjqtGu2lHK2H+YygANO27m2fYfcD1cIVIDtSCmlEKLZfGbbi5gN4Gmc\nnnTp0icYZgCoqQneh7p795ODYmfMpIuCYgfg982/B83W5p9+DJqtoqLcoNk64YR+QbFTVVUeFDsq\nW7d+96eW/19UVMTPP//s01ghxFEp5Wla7AVCoFEQBer02vbzsH6XZGBgYKAPUkqfHjqQB3Rx2s60\n7fNIoAKcBVxne34d8EWA5zEwMDBoESRgsVp9euhAFnCtLRpiOFDu5KZtFq8uCCHEh8BZQJoQIhd4\nHHgW+FgIcSPwJ3CFlis3MDAw0B+JRB+vZzM6GA4gpXwDWAKMB/YCR4CpvpzXqwBLKSc3c+hcXwz4\nzBONN4fth3+sh5QaKImGF0bCxszmx/vD3im/+DW+xzyfQvrcknfznkbbr3wJ034FkwSrgJmD4Z4J\njuMZb/YK2NaP537i1/gzvvlrQHYeK7zWr/FPpr8XkJ1gs+WSbxttT9wBj6+CxKNQHgWPnQWLnZYX\nTv7snIBtNb0vVs6Bc/Y7bZ8A45w+woHeF2vHft5oe84iuGY7CAlSwDsD4eZLHcdHrgg8oGnrpd/5\nNf6kT88O2JZPSLDqtOrkQQfV4xK4zd/zal6E05sB+bD0A8ioBOG0/687IC8eLrgatndqtcsLmEe+\nhSdXKc/tr0vCXRuVx2Oj4anAP88GOnJmDiyZD9ENje/BLxdATRiMvwp+6K6PrfkLYNIu5bmzrbF/\ngvUJWNAHrpqk3c6zy+CB9U3sSLhxq/J4fjg86CnKtY0S6vXOQ0qAB+TD1jeUG0QCDShz+RjADGRW\nwi+zYdA0yNbBnvUJh61aBKXmMJItDUQiEYB4QgcjOMRXtdX0lhAoxy0C9JgrepvZ+jtTbg7n3x+A\nxWzGbFFClfT8/QWTM3Pgu/eaf69iGpTjZ10HWmMCVPH1dF9M2gWWj7RlOqni68nOA+uV+2+xcP3/\n/uJtZuvvTDlQJGA1BNh3ln7guEmuA953OnYNSsZHuBWWzWu83BgoArAC0zp15/u4JPv+s6rKmJWf\no4MFBWfx/TQyhrvSHL6Ul4tyubT2CAJ4+gd4L0M3sy2O+pqWXTKZn8+7wL7/tK+XMu6zD1vturSw\nZL7jdWVHxDCl73D7sXk719O/Tnmvln4AI/trs+Usvn8Cp2c43Ayr8/ZwAsrxq3fCgxruC2fxrQQu\nGOlwMyxd+znxNjv/WgeLRwZuJxQJ9RlwyBTjGbZfcTu4E19s21NRjmdUOkIwtCBxFV+A7+OS+FvH\nbvbtsytLA7bxypcOW03FF+CutEyyImLss5IZhcGLH9WKO/EF+Pm8C1h5sWNddtiKr4J8ZYExcYfi\ndnAnvgBT+g5nZ3g0EmXc/B3rAra1co7y0534YtvOxTFbXZfX2GfsK3MWOew0FV9s21VOdpatbewz\nbstIKYMZBREQISPA/7D9lbbgKr4q76L4gQXwpA42axEu4qvyXbyjvtCdpfkB25j2q8Pn1lR8VW5L\nV/YL4MK6IwHbag2aiq/KhrEX2p+f0UYE+PFVjveqqfiqXNVvBDVhyrg+9TUB2zpnv8NWU/FVGWHb\nL1BSqgLhmu0OO03FV2Wcbb8AYgO0E6oEMQ44IEJGgFNs97I3+fnTliWrx41SavbNAxOvIQXT5ON7\nqw7TwQUXNCxms0/jzA31LXwl+pB41PsYgOLgZP7qQnByT0MX6eO/1iJkfMAltpvaW7WDE2wrH9U6\n2Ey2NPg0rtLkm9C4w+q8SuUBVXjb0udFXXDzhiUsvIWvRB/Ko3wblxr4xDfoSB/vv/aIsgjX2lfh\nmZCZAf9vuPILM6MsuLnjOhx+4sd0sBmJ5KyqMrfHnP2+ryQHHvc2a5Dj/n+5mfoAqt9XAl9FBK+Q\nkB6c9vVSt/ud/b4/OrkjQpl/j3a8V/N2rnc7Zv6OdXY/8a7wwKfC3x7vsLW6Gf+u6veV+JDT2gzv\nD3DYWdqMf1f1+0r0mdiEEoYLwkc2HO/w776L6yLbdcBclON58Y5amFoQwKz8HJdFtrMrS3mj4A/7\ntrM/2F/uvMhh69LaIy6LbDMKc5loW1kHhz+4LSCAcZ996LLINmzFV4z54mP79oY2IsBZ/bD7d/vX\nHXFZZJu/Yx1962sQKOOu6jciYFtjblB+CuAEXBfZ1uXtIRPHN6MRzfiJvXHDZQ478bgusi1b+zlx\nTnbGNeMnbpO0gUW4kHFBgJJk8ctsJdRsLvBUvOLzPaHckZhRb4JxU/Cx3LFnHHGqf9geCnuBN7Wf\n3s5jox2haBPrjjAxbw8Sx02vfkt8+EybcY3oFefrDcfv72ModAgug2yPNsj4qxxxwH3ra1ib/S3F\n0YrbQU3MkCj3Kpu12VrQxxGKlgkcaCLCqq0P+gIVgdt5frgjFC0OWN1EhFU7zwT+96QRwYrz9YbE\nCEPzi+2d4NRbIDde2c6shFG5yk9Q9g+aBtnNVh8OTZ46RxFh54U2E439vg+fCc+0cGamgXd+6A5n\nXwtHbFOTmAboUqn8BGX/WdfBqm7Nn8NXrpqkiLDzfaE+wCG+11ypzc6D4xQR9mTnmRHw8Pna7IQi\nVil9erQWIph/IfypB3wdSqhZLIpf6jF8dzv06OFf7YazK0u5szSfeKuFSpOZV5I7+ex28Lce8IzC\nXC60uRxUn6+vbodQrQc8bMVXnLHiK8wN9VjCwvlx7IU+ux1CuR7w/B3rGoWa7QqP9tnt4G894HV5\nexqFmuXhu9vBn3rAy9Z+3iiCqBrf3Q6tUA94k5YavScPGiSXfvut94FARkqKJluBElIuCGfeRR8/\nry98F5+syc/rD7elZ/pfsSPE2eCH4LYltPh4/SVQH6+/tCsfr1daN8TMF0JWgA0MDAy0IHWshtZS\nGAJsYGDQbrG2YoSDLxgCbGBg0C5pC9XQQioKwsDAwEBP9EzEEEKME0LsFkLsFUK4VAgVQpwghPhG\nCLFVCPG9EMLr6npQZ8AxMQn069fy9e569Q28g4W/pHQKzuIdQNeBOsQ++UBCakJQ7AD0HhycxSeA\nzt07B81WwZ8FQbN1Qr/jg2Ine82OoNhR2bpVYzyxjiFmQggzMAMYg9JyfqMQIktK6fxLeQF4T0r5\nrhDiHOAZmk/sBYwZsIGBQTtGxxnwUGCvlDJHSlkHLAAubjKmH6DGvX3n5rgLhgAbGBi0SyRgkdKn\nhw9kAAectnNxrRK6BVA77F0CxAshUj2d1BBgAwODdosfM+A0IcTPTo9bAjB3H3CmEOJX4EyUfBqP\nJQOPySiI+Sf+n1/jr/r9oYBtvRZ7v1/jb6/+b8C27su53K/xL3RfGJCdWzaO9Wv87CErArLT2iSW\nldB3xxaijx6hJiqGnf1OpjwppUVsnb/pByZsXk2Y1UKDycyXg0az8tQzdLdz9ucfM2zVSkxWC1aT\nmXVnj+WHiwLrjt0W8CPTt8hLJlwejTuhZdKkSJ2U8iC2GbAQIg64TErpvtyijWNSgA0MPBFXWc7E\nrAX0y/4Vk9MH+MKvPmJH/0FkTZxEVXyiLrZO37GR61cpfavU2gyRlgau/GklV/60kndGX8TqfkM0\n2xm6cgnnf/lxIztYrYxeuZjRKxez/KIr+GnMeM12Qgmpb52HjUBPIUQ3FOGdBFzlPEAIkQaUSCmt\nwL+AOd5OekwLcP2/TYRJKxIojY6jMC6R9KpykmuqdO/q69xBWCKoDQ8nsr4eoXMHZoDSmR1JOlyA\nxRzG76eeRkmnzqTkH+TEXzZitlh0s+VtZuvvTDkUiKssZ9obz5NaUkSD2cyOvidTmNaR9KIC+u7Y\nzIDtv3Dcwf3M+ts/qYrXFi2iiq9zt+IGk4kwW/KAAK5f9SUNwsx6DZE9qvg625FCIGziJIDzv/wY\na5iZn89uXxV59Kp1I6VsEELcDixHKVs+R0qZLYR4EvhZSpkFnAU8Y6t5swq8Vx04pgU4TFqpNYfx\n1Jgp5KQ7QpS6Fx7kkZXzAN86ZviCevO/P+4KNg50zGiGbNvINcs+bvb/BULS4QIKunbn87v/SVWK\nYw0grqSYv7z0HKBfx+f2xsSsBaSWFJHX+Xjev/ZWKhIdYYYJ5aVc895MMg7uZ2LWh8y/epomW87i\n++Hw8/nmlFH2Y+duXsPk9csRwE0/fK5JgJ3F9/uxE/nxwkvtx8746lPOWpGFAC747ENDgD2fawmw\npMm+x5yeLwT88usd04twElzEFyAnvTNPjbnavt29MNB+BI1tNRVfgI0DhzBvrMMHN3TLT5ptWcxh\nLuILUJWSyhd3PWDfji8u0myrPZFYVkK/7F9pMJtdxBegIjGZedf8HYvJRL/sX0ksKwnY1vmbfgDc\niy/AN6eM4qOhY+ylZMb84l8lN5WzP//Ybqep+AL8eOGlrBozwW7nzC+DU0s6GChREFafHq3FMS3A\npdFxLuKrkpPuiDCZsHODZlsS4SK+Kj+dPNRha632BavfTz3NRXxVKlPT7M9P/HWjZlvtib47tmCS\nkl19T3YRX5XypBR29jsFk5T03bklYFsTNq+2+2Kbiq+KuggngAs3rwrIzrBVK+12moqviroIJ4AR\n37XNBdPmsErfHq3FMe2CKIzzbSElrlZ7F8bacN8aU0bW12m2VdLJt4yvyOr21gFMG9FHlZ7chWme\nK/4XpXVQxtd46+HdPGG2TtsNJs9zoAZhIlxaCfexAWpTTDY7Unjut636hE0aOoCHHK3c780XjmkB\nTvexwHRVpPY+5JH1vrVmrw2P0GwrJf+gb7ZiY70POoaoiVIaoqYXeU4jTis6rIyPDryBaoPJTKSl\nwb7g1hxhtq/H9ebAOnNbTWawWu0Lbs2hHrdq6AAeahgtiUKc5Joquhe6Fytnv+/ivsM02xJIhmxz\n/5Xf2e+7eKT2yIETf/mZuJJit8ec/b6/D9Ie3tSe2NnvZKxC0GfnFhLKS92OUWKDN2MVgp19A+9Q\nsviU0+1+13M3r3E7RvX7SuCrU0YHZGfDaIcf+YyvPnU7RvX7SmDd2W0vcsUTod6S6JgWYAE8snKe\nyyJb98I8Hln5gX3b2R+sxdY1yz52WWQbuuUnpqxwLHw4+4MDxWxp4C8vPeeyyBZfXMTFLz9v33b2\nBxso/t0d/QcRZrFwzXszXRbZEstKmPL+65itVnb0H6QpKWP54DMB5b6YvH65yyLbmF9+5MqfHP7b\nQJMyvvvLFXY7Z63IcllkO/PLTxi9crHdTntLygj1tvTHtAtCiYdtwKX50Ynw1PCWsAXwie1hYyRc\nq3OBOMVWDpT/DZp4WaZdr5+dthjn642siZM47uB+Mg7u577/PszOfqdQlNaBtKLD9N2xGbPVSnFK\nGlkTJ2u29c7oi+yhaGriRYMw2d0OaujYW2dqayO0/KIr7KFoauJF0zhgCSy9RPtrCiWkrS19KHNM\nC7CBQVOq4hOZ9bcH7JlwA7b/Yj9mFYLtA04la+JkzUkYgD3DzTkTLtwmvmrCxFtn/kVTDDBgz3Bz\nzoRTxVe1s/SSye0uBhgwesKFIk1rO3QvzGPCzg3E1dZQFRnN4r7DdHE7gGtth6FbfmLC2hVE1tdR\nGx7B4pFjdXE7gGtth/jiIk78dSOR1dXUxsby+6Ahurgd2mptB1+pik9k/tXTFH/vzi1E1xyhJjqG\nnX31rwWxut8QVvcbwphffuTCzasIt1ioN5v56hR9a0H8NGY8P40Zz5lffsKI71YcM7UgjJ5wbYCc\n9AxeTXcfI6k3P508VDfB9UZlahqbz7sgKLbaI+VJKawfcXZQbK089YwWKb7TlB8u+mu7Flxn2n0U\nhBDiHiFEthBiuxDiQyFElF4XZmBgYKCVUF+EC1iAhRAZwJ3AaVLKASgFKibpdWEGBgYGmrAtwvny\naC20uiDCgGghRD0QA/iWAWBgYGDQwrQFF0TAAiylzBNCvADsB2qAFVJKl9UZW2X5WwAiIqKJiGh5\nL0V6l/QWt6HSsavntFU96dGva1DsVNfWBsUOQMlh9wkPLUFNlfaUcl8J5ge/pupoUOxUV1UGxY6e\ntNu29EKIZJSmc92AzkCsEGJK03FSytlSytOklKeFh0cGfqUGBgYGfiJ9/NdaaFmEOw/4Q0pZKKWs\nBz4FWr7nvIGBgYGPSOnbo7XQ4gPeDwwXQsSguCDOBX7W5aoMDAwMNCJpxy4IKeUGlOrvvwDbbOea\nrdN1GRgYGGhD5ygIIcQ4IcRuIcReIcSDbo4fL4T4TgjxqxBiqxDCa5M9TVEQUsrHgce1nKM5+lcW\nM+ng78TX11MZHs78zj3YGd8yHWmTyksZ8Nt2oo/WUBMVzfZeAyhLcF+Q26B1iSs8zAkb1tuz+/YN\nG0F1uj6Lri+F3+3X+LvrX9LFbnth8ZDXG23/+iqc5FSUb3MaDL7dsT1h499b9Hr0jIIQQpiBGcAY\nIBfYKITIklLucBr2CPCxlPJ1IUQ/lPZFXT2dN+Qy4bpXlzN9xzrS64/iXEL67OKDFIZHcW+/EeTE\n6tORNr6qgsuWL+KkPdsadb+9dOVnbO01kEXnX0ZlnPacfwPtRJeWcPqsmXRbvw6T04xl1Fuz+GP4\nCFZPu5Wa5Jb5A23gHyvfgnNzlefOn+FBRUpz2m8yYcxNwbkWHaNRhgJ7pZQ5AEKIBShBCM4CLAFV\nMBLxISw3pAS4e3U5c7d8T5htXfJweBT5kTF0qj1Cev1ROtQfZe6W77n+5LP4Q6MIx1dVcNd7r5BW\nVkyDyczWXv05nNqBDsWHGfjbdk7ZvZXMgjxeuvYuquLi9XmBBgERXVrCX/55L4n5+VjCwvh9+AjK\nMzJJzMul64b1nLh2DWk5v/P5c/+jJln7NxfnDtZN0buDdXtDFV/nDszOCJTjy+bAqwNb/nr88AGn\nCSGc17BmSymdXaoZwAGn7VygaaHwJ4AVQog7gFiUQAWPhJQAT9+xjjAkR00mbut/BrviHR+mPpWl\nzMj+kSirlf/tWMclQ8ZpsnXZ8kWklRVzoFMmb11+I+UJSfZjiRVl3LTwbbrk53L58oW8c9lUTbYM\ntHH6rJkk5udTeGIPlj38GNVpDpdDbFEh455+kvTf93L6rBmsfPARzfZU8chLSWf63x+277/39afJ\nKCnUfP72jLP4ViK4asLf7MfmL36DeCQCGLs/GALsV4hZkZTyNI0GJwPvSCmnCyFGAO8LIQZI2XzX\nz5ApyN6/spj0+qNIcBFfgF3xydzeX+kikF5/lL6VgXekTSov5aQ922gwmV3EF6A8IYm3L78Bi8nE\nSXu2kVQRvGQBg8bEFR6m2/p1WMLCXMQXoDotnWUPPYbFbKbb+nXEFmoXSHfiCzD97w9zKNlRTe7+\nmU9pttWe+PVV5ac78QW4asLfqMIxK/5wcWOfsd74GoLm4yQ5D+jitJ1p2+fMjcDHim25DogCPJYf\nDBkBnnTwdwRQGB7lIr4qO+NTKAyPUroIHNwbsK0Bv23HJCXbe/Z3EV+VsoRktvUcgElKBuzJDtiW\ngTZO2LAek9XKvqHDXMRXpTo9nX3DhmOyWun603pd7DYVX5X/3uqYYXcqLXI75ljlpGKHz7ep+KpM\nnqAsvAmU7+gtjY5REBuBnkKIbkKICJS6N1lNxuxHCcdFCNEXRYA9zghCRoDjbU0r8yM9NzossB1P\n8LHJpTuijyopqYdTO3gcV2g7rnbLNQg+aufm8oxMj+PKOyvHI6uqWvyaDNoGahywHj3hpJQNwO3A\ncmAnSrRDthDiSSHERNuwe4GbhRBbgA+B66WXVcCQ8QFX2tq2d6r1LHYdbccrfGzz7o6aKKXLcYfi\nwx7HpduOq91yDYKP2rk5MS/X47jEg8rx2ri4Fr8mg7aDnjU5pJRLUELLnPc95vR8BzDKn3OGzAx4\nQecT7f7dPpXufa59K0vsfuIPO/cI2Nb2ngOwCsGA37JJrChzOyapopSBv21X2tD06h+wLQNt/Dls\nOFaTia4/bSC2yP23udjCQrpuWI/VZGLfUH2a+d37+tNu9zv7ffOTjaamzmxNdfh35y9+w+0Y1e8r\ngeqWviAfawG3yXrAepMdn2r3787I/tFlka1vZQmvZa+2+4m1JGWUJSaztddAwqwWblr4tssiW1JF\nKTcunIPZamVrr4FGUkYrUpXegT+Gj8Dc0MC4p590WWSLLSxk3P89idli4Y/h+iRlCCCjpNBlke3+\nmU9xnJPf19kfbACD7lB+CiAe6bLI9uHi14nD4SdW/cEtSogXgwgZFwTAvf1GMHfL90RZrby5bRWF\n4VEURMbQ0RYHLIAGBP/oN0KzrUXnX0ZmQR5d8nN5dOZTbOs5gMLUDqTb4oDNVitFSaksPP9y7S/M\nQBOrp91KWs7vpP++l6tumcq+YcMp75xJ4kElDthssVDeqROrp92miz1HnG8R4MiOe+kuXU7frvkm\n0xGKFgd82USE1RC1FccH53qslnZaC6IlyIlNZOrJZ3E4XKkZ3KH+KAOrSuhQr9Q7PRwepUsSBkBl\nXAIvX3snm3ufhJCSU3ZvZczarzll91aElGzufZKRhBEi1CSn8Plz0/l95CiElJy4dg2nLvyIE9eu\nQUjJ7yNH6ZaEYaCNMTcpIqzKnnB6gEN8x93Q8teiTG5D2wURUjNgUET4kiHj6FtZwuSDe0mor6ci\nPJwPW6AWRGVcAu9cNpWkilIG7Mkm+ugRaqJi2N6rv+F2CDFqklNY+eAjir/3p/VEVlVRGxfHvqHD\ndasF0bS2w/0zn2oUapafnGa4HTyg1nZ46WTl8eHi1xuFmlXjcDtM2Bica2q3HTFamp3xKTzWOzjd\ng8sSkll92ulBsWWgjer0dLInXBQUW4bYaiMoPl6PtO7s1hdCVoANDAwMtCKthgAbGBgYBB3VBxzK\nGAJsYGDQbpGt2HLeF4IswBJrEH4hlSXB696akBq8esGV1cHp6jtldPD84W8uWRk0W+VF5UGzVVYQ\nvAJOh3Pzg2LnwP4d3geFGCE+ATZmwAYGBu0UKQ0fsIGBgUFrYfiADQwMDFoBPXvCtRQhI8DrxzUt\nremZ4csmeh/kI93z9zN26zpia49QHRnDspNHsq9jF+//0Qf+U3ljo+0uZTBxNyQdhbIo+KIP5Dol\n9j0a/7YudgH6fDCPgR/Mw1xfjyU8nG1TrmHXVVdrPq/4t2i0vWEmnOZUWO6njjDCKQRUPh7aHwKV\nucc17i+7ajaMcurq9WMGnHWzY3vqoX8HbOuzUxonfXz0IVy225Gq+3EfuGqS4/glm/1rGBoKDKwu\n59qiXBIsDVSYw3g3LZPtOvVz9BVDgEOYjOJD3L1kHsnVlY2aB56Wk01pbDwvjZ9CXupxutjqWAmv\nLYFLdoHZ6Z54eRl81gduHw8FOmU9d8/KYsT0/wKOFNCwujoGz3qDwbPeYN2995MzUfsfsMXvwAX7\naGQHYFiB0ldtaVeYcL1mM0Hn03nwF1u9f+fXNTpPeV2f94BLp+hj69UsuO0XV1uTdsGkJ2DGqXCH\nfnONoNCjpoqZ+7bRoaGu0WsaU1HE4bAIbu06kL3RQSgbKiXSYkRB+IVzQ8RaYaI8LILEhjoipVXX\nhogZxYd4fOEszNKKBEpi4ymOSyK1qozk6kpSqit5fOEsnrj87xxM7ajJVsdKODS9caNCi9mM2WLB\nJOHynTAoH0beCGgUYVV8nW1Zw8IwNTQAyjWMmP5frGFm9o2fELCdxe/A+H3uj6kfugv2Qda7wOPu\nx4Uiqvh6air5l73wyQew5BxttlTx9WTrtl/AIuAHfb6QtTg9aqr4aO8v9sa6BWERHIyIonPdUTo0\n1NGxoY6P9v7CFT1O5fcgiLAxA/YTAViB+3oNZV1KJ/v+ESX5vLDnJ93s3L1kHmZppdYcxvMTb2Bf\nR0fHha4FuTyQNYdISwP3LHmP+6+5X5Ot15Y4PmRLL7qC9Wedbz82/PvlXPDlx5xYCjMWw1aN7bqd\nxXfTrbex60rH99g+Hy1g8MwZCGDUc89qEmB15mvH+UYXigQL4MI/AjbRKjiL784OmbxwicPncN9n\nb9L3cC4CuOw37QLsLL6/pGby9BmOynsP/7iQU4sVW3duajsCPHPfNsKQ1AgTN3Q/mR0xjjDNfkcq\nmJOzhWhp5fV92xjbV3tVQ2/oqb9CiHHAy4AZeEtK+WyT4y8CZ9s2Y4AOUkr3Pc9shFQ1NFBuxqbi\nC7AupRMP9HLUhhhVEnjsY/f8/SRXVyLBRXwB9nXM5PmJU5FAcnUlXQsOuD2PL3QpU9wO7sQXYP1Z\n57Nswl+pNynjRny7LGBbfT6YB7gXX4BdV05i07S/2WdafeZ/EJCdDTOb7Gh6l9u27XtFY59xqLLK\n1oTcnfgCvHDJzexOy7C/rgcWzSZQPvrQYaup+AI8fcbl/JrssPXID58EbCtYDKwup0NDHRJcxBdg\nR0wCN3U7CQl0aKhjQHXLxmWri3B6VEMTQpiBGcAFQD9gshCiXyN7Ut4jpTxFSnkK8CrwqbfzhpwA\n1wqTi/h/XK7qAAAgAElEQVSqrHHaf1Pu7oBtjN26DgGUxsa7iK/Kvo5dKI2NRwDnb1kbsK2Jux0+\n36biq7LunHF80VsZd+Y3XwVsa+AH8+xf/5uKr4q6CCds4wPhtMNO/srmbl7b/rYhvQqjDjqut6n4\nqjx/2S2AMq5XUdOmuL6jLrgBLuKr8tSZf7XbOqU0cFvB4toiZcZ+OCzCRXxVtscmcjgsAgFcW+y5\nzZRm9C1HORTYK6XMkVLWAQuAiz2Mn4zSF84jISfA5WERPo2LswTelDPW1leuOM7jtwNKbMfjvPSp\n80SSUsoYi9nscdyeVOVnmM1XGwhmW6NSa5hnz5J63FxXF7AtA220pT9MvpJgUe7dgxFRHscdCo8E\nIFHDve4bEqvF6tMDSBNC/Oz0uKXJyTIA56/CubZ9LgghTgC6Ad96u8KQ8wEnNvgmClXmwJtyVts6\nK6dWue8Hp5JiO17lpVOzJ8ps96LZYvE4rlex8rPBi3h6whIeTlhdnX3BrTnU45YI3/7YGehPaC8N\nBUaFWbl3O9cd9TjuuPpaAMo13Ou+4sciXJGU8jSdzE4CFkopPX/oCcEZcKS0MqIZ/66z3/etzN4B\n21hx0ggn/677r0FdCw7Y/cTLTx4ZsK2s3soqNigLbu4Y8e0yLt5tW+0+98KAbW27eorDv/vRArdj\nVL+vtI0PhJ87+ODfte1vS0KzprPjeu/77E23Y1S/rwT2pLmdAPnEot4OWw//uNDtGNXvK4HNyYHb\nChbvpWXa/bv9jlS4HTPAyU/8Xqp7959e6NwRIw9wXgrNtO1zxyR8cD9ACAqwAF7Y85PLItuoknye\nd4qCWNOMn9gXcjodb/fvPpA1x2WRrWvBAR7ImuvkJw58CfpAkhLnK4ALvvzYZZFtxLfLGLf4E8Kt\nyrh154wL2NYum6AKYPDMGS6LbH3mf8DgWW84/MQBJmUMu7XJjqYi7BQFAYR+RRQbo21fOgXQ93Cu\nyyLbA4tm07soz/66VH9wIFw52WHr1OJcl0W2R374hEGlDluqPziU2ebk352Ts8VlkW1AdTlv/bHV\n7icOSlKGfk05NwI9hRDdhBARKCLrkj0mhOgDJAPrfDlpyLkgHHG+jUPO1gPTdbTz0vgpPL5wFpGW\nBh757E1KY+MpiUsixRYHLACLMPHi+Gs127p9vBLne2IpnLf0E6pzPmFPquJ2OM+2GPN7Mtw2AaZp\ntLXu3vvtoWhq4kXTOGAJrPnng5rsLO2qhKKp52sqwur+r7pBcPpX6MPnPRyhaL2L8nh7VuMgZvV1\nLeqp3daMUx2haINK81j0eePsONXWK4O12woWt3YdyEd7fyFaWpmXs5nDYREcCo/kuPpae2JGA4K/\ndx0YlOuROuVhSCkbhBC3A8tRwtDmSCmzhRBPAj9LKVUxngQskD5Oq0NuBhws8lKP49+XT6MkVsl8\nSKmupEfBAVKqlVKWJbHxuiRhgJLhNuoGWNgXe+LFQ6uVnyap7B95IxzWIS49Z+JE1t17f6OmiOaG\nhkZNEdf880FNMcCgZLgt7eq5+eJX3WDidZrMBJ1Lpygi7Ol1LeoJf9We0c0dExUR9mTrlcFwdxv6\nC7Y3Oo4re5xKgW0xvWNDHafUVNLRtrZTEBYRtCQM0Lcpp5RyiZSyl5TyRCnl07Z9jzmJL1LKJ6SU\nPs9uRDAzReLikuTAgWf6NHZUST435e4mzlJPlTmctzJ7++x26HeKf770rgUHOH/LWuJqj1AVGcNy\nP2pBZPT0zzc34ttlnPnNV4Q1NNAQFsYP517os9uh12m9/LLVZ/4HSi2IujosERFsu3qKT24Hv+sB\nu/MD+3hfBbMe8Losn74V2nlg0exGoWZ70jJ8djv4Ww/4kR8+aRRqtjk5w2e3Q51tUaul8bce8IDq\ncq4tziWxoYHysDDeS/WvFsTWbT9s0rIw1qXbifKufz/n09j7r/urJluBEnIuCJU1KZ00+Xn9YV/H\nLswae2VQbK07Z5wmP68/7Lrqal2K73iljfh4/UWLj9df2oKP11+2xybyQJCL7zjTFqqhaXJBCCGS\nhBALhRC7hBA7hRAtn1toYGBg4AtSacrpy6O10DoDfhlYJqW83LYyGHjArIGBgYHehPgMOGABFkIk\nAqOB6wFs6XlGapWBgUGI4PsCW2uhxQXRDSgE5gohfhVCvCWEiG06SAhxi5reV19v6LOBgUHwsFql\nT4/WQosLIgw4FbhDSrlBCPEy8CDwqPMgKeVsYDZAcnJHeVyn7hpM+kZNVXC6BwMcqQy8ToS/9MzQ\npzi8Nw5XuM9iagmGDQg8o9Ff6msDrx/iL9t+3BY0W2WHPafU60Xe+r1BsaMX0uYDDmW0zIBzgVwp\n5Qbb9kIUQTYwMDAICfSMA24JAhZgKWU+cEAIoU5hzgX8CxQ0MDAwaEFCXYC1RkHcAXxgi4DIAaZq\nvyQDAwMDPQj9RThNAiyl3Ay0SPbI64vfIL3eUdbucHg0t07QWimh9UkqK6H/7m1EHa3haFQ02/uc\nRHlicmtfll90fLFxcP2w/fCP9ZBSAyXR8MJI2OhU6KrgnsA7H5w89wS/xm+Z+mfAtm7b6l969oyT\nFgdsq7W487uFDDvo8OWuzejJjLMuaxFb42qPcP+RShKQVCB4LiaeFRpKu/qNDP1EjJDLhHth+Vy6\n1SgfWOcE1471NSz6/CX+iE7kvvPb3kQ7vrKCS5Z8woBdWzA53RQXL1vE9j4n89n4v1IZ776LQKgy\nIB+WfgAZlY3fq7/ugLx4uOBq2B6cZEYDL1y3bgnn52wFGr9Xo/J+Y9QHz7K8+0m8O2K8LrZOrzvK\nh5XFRDWx9UFVKUerSpkcn8pqL0Xb9UAC0mIIsM+o4uupS2y3mnKeW/EO/xx7fdCvL1DiKyu4bc6L\npJUW0WAys73PQA6ndaBD0WH6797KSTs30zk/l9duvIequLYhwgPyYesbzXf0zayEX2bDIJ2+tDh3\ny5aRkTQkJxNWWoqordW1WzZA2eudSCzIxxIWxr7ThlGWkUFSXh5dN67HbLHoaisYqOLr6XN1fs5W\nrCYz7w9z3zbLV06vO8pnlcV2WzVAiTCRIq1EAdHAZ5XFTIxPZV0wRNiYAfuOs/jmR8Rw23hHLv6M\nJbPpVHcEAfQ4EpywG724ZMknpJUWkXtcF+ZOurmRyyGxvJSpC94k89ABLl38Ce9deWMrXqnvLP3A\nIYhHLr2U6rlz7cdip04l5tNPCbfCsnnAs82dxXcEIIVg39tvU3nuufb98d98Q9cbb0TP0u+JBfkc\n7n4iSx98jOq0NPv+2KIiLnj2SeB33WwFA2fxXd2lFzNHX2o/duuqTzn9wB6lXvXeXzUL8Ic28bUC\nV8Wl8HVktP3YebU1zK8qwQR8XFlMl9QWLjLfygtsvhAy5ShfX/wG4F58AW4bfwsF4dH2j9nMxbOC\ne4EBklRWwoBdW2gwmV3EF6A8MZm5k27GYjIxYNcWEsv9q6LVGgzbr7gd3IkvQPXcudRMnIhEGRd3\nzTWabUpwEV+AynPPZd9sR+H0+BUrNNuyhIW5iC9AdVoayx50hLnHFRVqttXS3Pmd0m3DnfgCzBx9\nKWsyeto/V7d9vyhgW+NqjxBls9VUfAG+joxmSlwyEogCxmrotegroV4LImQEOL3+qN1f1FR8VdRF\nOAF0qA9esoUW+u/ehklKdvQe2OxiW3liMtm9T8IkJf13By+AP1D+sd7h22sqvipV779PXrwyLurL\nLzXblJGRLuKrUjl2rP15x5decjvGH/adNsxFfFWq0tLtz7tu3OB2TCgx7OBe+3vVVHxV1EU4AYzM\n+y1gW/cfURoZHAUX8VVZERnDUZutB2oqA7blK6EehhYyAtxeiTqq/KE4nNbB47jCVOWDHV0TvMy6\nQEnx8W/fn2qwhA43eEOyb5Ei5krtH+qyDN++GkdWVWm21Z5IsM2jS4RnWSm1HU9sYeFTy1HqJcBC\niHFCiN1CiL1CCLdF14UQVwghdgghsoUQ872dM6R8wO2Ro1HKTKBD0WGP49KLla+zNdGhX1CuxP3k\nxoUT1Oiz5hp3+kFYqW+uGUt8vGZbSXnN9VpsTG1ccLo6tBUqbHPtFC99gJJtx8t1uC88IiXSqk9P\nIiGEGZgBjEHJAt4ohMiSUu5wGtMT+BcwSkpZKoTwPOsihGbAheFRdj/UjCWz3Y5R/b4SJS64LZDd\neyBWIei3e1uz/t3E8lL6796KVQiyewenV5YW/jfcseQVO9V9SGDcNdfY/cRHL9LeU0fU1hL/zTdu\njzn7fQvuvluzra4/byC2qMjtMWe/774hwzTbamk2dO5hf69uXfWp2zGq31eixAUHyn9j4u3+3fNq\n3X9NGuvkJ34+WvsfS29Iq28PHxgK7JVS5tgqPy4ALm4y5mZghpSyFEBK6XnWRQgJ8N8n/A1QfEOd\n6o64LLLNXDyLjvU1dn9WW0nKKEtKYXufkwmzWpi64E0XEVajIMxWK9v7nNwmkjI2HI/dvxvz6acu\ni2xx11xDdFYWAmVc1fvva7YpgK433uiyyBa/YgVdb3GsGTj7gwPF3NDABc8+6bLIFldUyLhn/2Pf\ndvYHhyqvnH05oPz+Tj+wx2WR7bbvFzEq7zf750pLUsYyJ//u/KoSl0W2sbVHmFdVavcTByMpww8X\nRJpatdH2aLoQlQE4t0/Pte1zphfQSwixRgixXgjhtfVNSLkg/ohOtIeiqYkXzqihNHtjklrj8gLm\ns/F/pXN+LpmHDvDQy0+Q3fskClPTSS8upP/urZitVoqS0/h0QttpS3PB1Uqcb7gVorOyKMlM5M9E\nxe0QbUvMqDfBuCnwrQ72lNhbCXk3Q9N1v8ddx2u39TscvB4ONjmovUl20Fne/SR7KJqaeOGM+rla\n2mOQZluT41P5rLIYE47Ei1JhItkWB6zauiI+VbMtr/iXCVekQ0+4MKAncBaQCawSQgyUUjYbNxsy\nM2CA+86fyh/RiR67xO6NSWpTSRgAlfEJzLjhHrb2PQUhJSft3My5q1dy0s7NCCnZ2veUNpWEAUqG\n26m3QK7tW2RmJYzKVX6Csn/QNMjW3lTaQCPvjhjP8u4nefxcLe0xSHMMMMDqiCguiU9FdUBEA52l\nFdVhWAPBS8JA10W4PMC5U2+mbZ8zuUCWlLJeSvkHsAdFkJslpGbAgD3NeObiWY1Czdp6LYjK+ATe\nu/JGm793G9E1R6iJjiHbQ3haqNKotsNzUHPNNUqomZQgBEcvuoiI99/XZebbtLZD/IoVdHzpJcyV\nlVji4ym4+25d3A7gWtshrqiQrhs3EFlVRW1cHPuGDGsTbgd3vDtiPO+OGM9t3y9qFGrWErUgVkdE\n0SU1g7G1R3igppJEKSkXguejg1wLAonVos8iHLAR6CmE6IYivJOAq5qM+RyYjNKkIg3FJZHj6aQh\nJ8AqbVlsPVGemMzaoaNb+zJ0per99wlWQFbl2LG6Ca43qtLS2X7BhUGxFSxmnHUZM4Jka0VkTJAF\ntwk6FuORUjYIIW4HlgNmYI6UMlsI8STws5Qyy3ZsrBBiB2AB7pdSFns6b8gKsIGBgYFmdIw1llIu\nAZY02feY03MJ/MP28AlDgA0MDNotIV4KwhBgAwOD9om6CBfKGAJsYGDQPmkDTTmDKsDCZCIytuXD\nT0ZMHNHiNlTSuwRvVdyqU1qlN/4oDF6Vr537DngfpBMxCcFbEDqhn3+dPLQQrK7IYWHhQbGjHzJo\nn5lAMWbABgYG7RbDBWFgYGDQWhgCbGBgYBB8pOEDDpzU6nIG5+4ltu4o1RFR/JzZk5JYfVJ179wx\n0a/xr/TLCtjW5OX++aM/PH9dwLaCxfB5Pfwav37KXu+DmmHq6rP9Gj/39O90s9WlDCbuhqSjUBYF\nX/SBXKeG0FpstRaD9+/msu1riK6rpSYikk8Gns6vXXq1iK1bq0q580gFkRJqBbwYk8CsuOBmfYb4\nBDj0BDixpoqpG1cyJHdPo+7B1236mo2ZvZg7ZAzl0UYdVoOWo2MlvLYELtkFZqcP8MvL4LM+cPt4\nKGj5Soq60jf/Dx78biHhVoujU3E13L/qU+pNZp49+3J2duqmi61J1eW8WKVU/VNtRUt4orqcJ6rL\nuScumQWxic2fQDdCvydcSAlwYk0V/14xj45VZTSYTGzM7MXBhBQ6V5QwOPc3hh3YTdfSAh4few3l\n0bGa7Xmb2fo7U/aEc1dfAGtYGKaGBgDdu/oGC28zW39nyp6w/MeMyWJR+tClplHVqSNx+QXEFBfp\n+vvrWAmHprvv9myScPlOGJQPI9tG71RAEd9Hv/nI/prqTGYqI6OJr60h3Gohwmrh0W8+4slzr2JX\np+M12VLF1/n3VwdE2I4L4MWqUiwIPtHpG22zyOBFDgVKSAnw1I0r6VhVRk5KR6afeRklMY43KOVI\nBff+sIjuJQVM3biCl0Zf0opX6j/qDfnLHXfw21WOGh4958/n1FdfbbXraiuYLBYaIiNZOv0livv0\nse9P3bWLC+69G6jVxc5rSxzvVVGXLiye+5792ISp15J24AAnlsKMxVDltdpraPDgdwvtnYr/e9Zl\nbHYqun5K3m/c//0iTMC/vvuI6ybfr8mWs/g+FpvEm3GO0rE3V5XxZHUZAnilqqTFBVgS+j7gkClH\nmVpdzpDcPTSYTC7iC1ASk8D00ZfRIEwMyd1DSnVFK11pYLgTX4DfrrqKX2+7zb7da968IF9Z20CC\ni/gCFPfpw9IX/mffTt25g0DpUqa4HdyJL8Diue9RnJFBvUkZd+F1UwK2FSwG799NuFX55tBUfAE2\nZ/TkhdGXIoFwq4VBB/YEbOtWm9vBnfgCvBmXxBOxjnKz06pavgO40ZTTRwbn7sUkJZsyerqIr0pJ\nbAKbMntikpLBuYF3b20tmoqvyp4pjg9y/3ffDdbltCmOpKa5iK9Kcd9+9ucDFn4csI2Jux0+36bi\nq/LVu/P4orcyLsXH3nGtyWXb19iK45tdxFfl1y69qDeZEcDl29YEbOvOIxV2n29T8VVRF+EEcM+R\nlp5ESVsohA+PViJkBDi27igABxNSPI47ZDseZxvfVrCG+ebtMdfVtfCVtE2qOvlW2T2yIvCuyEk+\n3lJ7gtDMQS+i6xTXTGUzbeJV1OMxGj5XkTYd83YHq8cjW1r3ZOjPgEPGB1xtq5DfuaLE47jjbMer\nglBRX0/UBTdvWCIivA86BonLL/BpXG1C4OEJZT7eUr08VngNLWoiIqEa4ptpkqmiHj+i4XNVK5Ro\nB293sHq8toWbIgNYLYYP2Cc2ZfbAKgSD834jpZmvJinVFQzO/Q2rEGzKDLx7a2vRc/58t/ud/b7Z\n110XrMtpU8QUF5G6a5fbY85+3+2XXxGwjazeYLGJwoSp7pu/XXjdFC7erYwryWjakzH0WDRglN2/\ne0qee7fdoAN77H7ihQNHBWzrlZgEu3/35ir39SmmOfmJX2zG1agXOrckahFCRoCLYxPZmNmLMKuV\ne39Y5LLIllJdwb2rFhEmrWzM7KVbUkawEMCpr77qssjWa948Bs1w9Chw9gcbOBDABffe7bLIlrpz\nBxfc56h/7ewP9pcDSUqcrwDSDhxwWWS78LoppOblEW5Vxn31bugvmG46vrfdv3v/94tcFtkGHdjD\nfas+tfuJtSRlzHTy7z5ZXeayyDatqpQnqsvtfuIWT8rQ2QUhhBgnhNgthNgrhHjQzfHrhRCFQojN\ntsdN3s4ZMi4IgLlDxtC1tIDuJQW8/MUbbMrsyaGEFI6zxQGHSSsFcUnMHaJPSxo943y94YhTnQHL\nnZrCpANPuAxvE+gZ5+sN5fdXC8W3weomB/+ln53bxytxvieWQuKhPOLuOJs9qYrbIfGQIi6/J8Nt\nE+A5/cy2KM+efTmPfvMRJhyJF85xwGrY2DNnX6nZ1j1xyfZQNDXxomkcsATujPO81qMP+s1uhRBm\nYAYwBqX55kYhRJaUsmnYzUdSytt9PW9ICXB5dByPj51iz4QbdmC3/ZhVCDZ06c3cIWN1ScIwMHBH\nQTyMusGRCXf5Tscxi4CFfRXxPdyGkjF3durGf8690p4JF2G1kFqjdPFTEzOeOftKzUkYgD3DzTkT\nLtJ2TE3MuDMupeWTMFSb+rkXhgJ7pZQ5AEKIBcDFQOBxj4SYAIMiwi+NvsTu742rO0pVRBSbdKwF\noaW2g780re3Qa948+r/7Lua6OiwREWRfd12bcztoqe3gL03rLaTu3MGAhR8TWVFJbUI82y+/QpPb\noTlbVRdA6XVTGoWalXbOoOrVeW1m5uvMzk7duG7y/Qw6sIfLt60hpu4oRyKiWDhwlO61IBbEJrIg\nNpFpVaXc09q1IHxPxEgTQvzstD1bSjnbaTsDcC5enQsMc3Oey4QQo1Fa0t8jpfRY8DrkBFilJDaB\nlb0Ht/Zl6M6eKVPanOCGEsV9+/HDo08ExVZb8PH6y69derVY8Z2mzIpLDrrgOuNnNbQiKeVpGk1+\nCXwopawVQkwD3gXO8fQfNC/CCSHMQohfhRBfaT2XgYGBgZ7ouAiXB3Rx2s607XO2VSylVHPi3wK8\nziD1iIK4C9jpdZSBgYFBUPFNfH0U4I1ATyFENyFEBDAJaOTLFEIc57Q5ER90UZMACyEygQkoam9g\nYGAQOthcEL48vJ5KygbgdmA5irB+LKXMFkI8KYRQw6nuFEJkCyG2AHcC13s7r1Yf8EvAA0Cz6UdC\niFuAWwBiYxOJiGr5TC+TOXjhzVu+2xI0W/vSg1FDFUoLWr5IisqBXcFrytnxBN/SmfWg30h9FgZ9\nYeAZA4Ni58+c4H7RLSjYp/kceiZZSCmXAEua7HvM6fm/8DMoMmClEkJcCByWUm7yNE5KOVtKeZqU\n8rSo6OB1pTUwMDi2aQuZcFpmwKOAiUKI8UAUkCCEmCelNJb4DQwMQgCJDPGC7AHPgKWU/5JSZkop\nu6I4pL81xNfAwCBkkCCtvj1ai5CNAzYwMDDQyjHRE05K+T3wvR7nCga3b7vQr/GvDQw8xPnZur/5\nNf7BiDcCthUsnm+4tdG2t+7BD4TNDNjWhz2e8Wv85L2BF4Z4Kfxuv8bfXf9SwLZai845exj29VKi\njlRzNCaW9edN4FB3fWp6rDv/i0bb962Ch9ZApAVqzfCfM+DF0x3HRyy/WBe7njgmBNjg2KQ9dg9u\nr6Tn/smVr/2X+LJSnMvw9vnlJyqTkvno9vspzDxBF1tTN8FbX9qazdr2xTTA9K/hha/hpotgbhCS\nXNVFuFDmmBZgbzNbf2fKnvA2s/V3ptzadKyEvBdNmK1WJFCekERpUgrJZSUkVJQ17h7svjuNX3ib\n2fo7U/aEt5mtvzPl1iY9909u+L9H7O9VRVIy5SlpJJYUEV9WSkJZKTf83yPMefj/KMzo4vV8npi6\nCd7+snFXaSuOxSYTynGLgBZvKiYlVktoL8Id0wJsEDivLQGz1UpdeDizbryH3Myu9mOZufuY9vaL\nnFhaz4zFsPHq1rtOA7jytf9itlqpD4/g/XsfJr+rw+XQad9erpn+NOH1dVz56nO89uxrmmy95SS+\nb3XuydwTHPHQU//cwU0Hf0MAc7Pg9BGaTPlGiM+AQ6Ygu0Hbwbl7cFPxBcjN7MqsqXfZuwdn7s9p\nles0UHy+8WWlSHARX4D8rj2Yd8/DSCC+rJTjcgKvdHffqubFF2DuCf2Ye1wPJMq4m/ZlB2zLV6SP\n/1oLQ4AN/EbtHlyRkOQiviq5x3e3dw8evfbb4F6ggZ1hXy9FAJVJyS7iq3Koew8qk5IRwLBvlrgd\n4wsPrXH4fJuKr8pbXfvbBXhyfsv+YZZtoCmnIcAGfqN2Dy5N8tzVQO0eHHOkuoWvyKA5omy/+/KU\nNI/j1OPR1VUB24q0KD+9eV3rbaoT1uLCJ5HS6tOjtTB8wAZ+o3YPTi7z3MFa7R58JMboYNJaHLX9\n7hNLijyOU4/XxAbe6qPWrEQ7eJvVhdv0rkG0fFvkUI+CMGbABn6jdg9OqCgjM3ef2zGZ+3Ps3YNX\njfRYk9qgBdlw3gV2/26nfe79u8fl7LX7iTecOz5gW/83Crs3deqf7jv13LQv2+4n/rBT94Bt+YrV\navXp0VoYAmzgN87dg6e9/aLLIlvm/hymzX3Z3j049/iW/6AZuOdg9152/+410592WWQ7LmcvU158\n2u4n1pKU8cJoHAtsB39zWWS7aV82Uw/tdSzUde0fsC1fUPy7hgsiZNEzztcbbS3O1xuO7sH1/O2t\nF/iiN/buwRfvVr5mqt2Dr9fBnp5xvt5oa3G+3vjo9vu54f8eIby+juuff5zKJnHAArCYTHx0xz81\n27rpIkcc8NRDe7n+0F7qTcr9oCZmSGDqRKBQsznvGC4Ig/aI2j14YV8wSaV78EOrlZ8mqewfeWPb\n6h7cXinMPIE5Dz1FRZLSny2hrJQuOb+RUKbUfa5IStYlCQOUDLcbL3IsxJmASKtDaKzA9RPhvVM1\nm/KJUA9DE8F0Uqeld5YTLr65xe0MHT+0xW2o5O7ODZqtxBAtyJ65P4fRa78l5kg1R2JiWTXyHJ/d\nDkZBdu0UHvB9Knlczl6GfbOE6OoqamLj2HDueJ/dDl+9+7Ff13XTvmwm5+cQJiUNQvBhp+5+uR3W\nrftik5ZGmYmJ6XLkyL/4NHbZsre82hJCjANeBszAW1LKZ5sZdxmwEBgipfzZ3RiVY9oFYaAPucd3\nZ77h520THOreg8+73xkUW2917d/ifl7PSKxWiy5nEkKYgRnAGJSW9BuFEFlSyh1NxsWj9Mnc4Mt5\nDReEgYFBu0TnRIyhwF4pZY6Usg5YALgr5/Yf4DngqC8nNQTYwMCg3aKjAGcAzv6yXNs+O0KIU4Eu\nUsrFvl6f4YIwMDBot/ixxpUmhHD2186WUs729T8LIUzA//Az6CeoAlx79Cg5u90HaOtJeqbntEs9\nKckPXgfhYC2YHikPXupwMIPgg9ktu+RQcdBsBauLtdnU1uZr0p8wtCIvi3B5gHOYSKZtn0o8MAD4\nXnHOHwEAABwMSURBVCgZfp2ALCHERE8LcW3tN2pgYGDgM9JrZQqf2Qj0FEJ0QxHeScBVdjtSlgP2\nmZ8Q4nvgPiMKwsDA4JhESv2+YUkpG4QQtwPLUcLQ5kgps4UQTwI/SymzAjmvIcAGBgbtFH1LTUop\nlwBLmux7rJmxZ/lyzmNSgKcL/+Ig75WvBGxr7nGPN9r21sBy6qF/B2zrufq/+zX+n+GvB2wrWHzU\n6zm/xl+5J/B02v+ZGt8X3t6rf1gDvy+OBUYV5TH1wE7iLPVUmcOZc3xf1qZmeP+POtKadR584ZgU\n4NbAaGDZdjDeK20MKivgvzvWEiGtjRqAPrtrPXXCxP39RvJrUnCyEkO9HOUxLcCFL6eSVlpMg8nM\njt4DOJzakQ7FBfTfvQ2z1Yp4Qh87HSsh738mzFJpilgSE09xfBKplWUkH6ls3MBSB7zNbP2dKYcC\n+S8k0bGqjAaTiU0ZPTiYkErnimIG5+4lTOr7Xm2f47gvtvQZQGFqR9KLCxiwexuX77Q63qsYfWy2\nJwaVFfBy9mp70Z1aYaIsPIKk+joipJVIaeXl7NXc0f8MtiR1aPHrMQQ4hEkrLSb3uEzmTrqZ8oRk\n+/7EilKmLngTJdZaO68tAbO0UmsO47mJU9nXIdN+rOvhXP6ZNZcTSxuYsRiWjNbFZLujY1UZOckd\neeHMSymJSbDvTzlSwX0/fAoU6GLntSXKfXHguEzmXunmvvjoTU48lMuMxbDur7qYbFf8d8daBErR\nnQf7DGedk8thRHEez+5ajwmYvmMN5428pGUvRvoVhtYqHNOZcA0ms4v4ApQnJDP3SkfRoMTywOMs\nnRtYNhVfgH0dMnn+oqn2BpbdCoJX3Kct0WAyuYgvQElMAtNHX2rfTq2uCNiG+l41mMwu4gvKffHO\nFTfb36skDfdFe2RUUR4Rtm95TcUXYF1qBv/qMxwJREgrI4vz3J5HLyRglRafHq3FMS3AO3oPcPmQ\nqZQnOvb3370tYBtqA8vSmHgX8VX5o2OmvYHl+VvXBGyrPbMpo4eL+KoUxzr2D84LvKuv+l5le7gv\nyhKT7e9V/z2B3xftkakHdiKAOmFyEV+VtakZ1AkTArjhwM4WviLf0pCNppytxOFU3xYCoo/WBGxD\nbWBZHJ/kcZzawDK2NnBb7ZmDCak+jYut86kGilvU96rQy32hvlfRNcZ75UycpR6AsvAIj+PKbcfj\nGupb/JpCXYCPaR9wh2Lf/IY1UdEB21AbWKZWlnkcpzawrI4M3FZ7pnOFb6m91RFRAdtQ36t0L/eF\n+l7VRBvvlTNV5nAAkurrPI5LtB2vCgtv8WsK9UW4Y3oG3G/3dhIr3PvxnP2+2b0HBmxDbWCZfKSS\nrofd+3e7FeTaG1guP2lUwLbaM4Pz9pJyxL1/19nvuykj8J5m6nvV38N9kVRean+vsnsFfl+0R+Z2\n6Wv3745oxr87stjhJ57TpW+LXo+yBhfaPeGOaQEOs1qYuuBNl0W2xHJltVvF2R/sL84NLP+ZNddl\nka1bQS4PfDnX3sDyj47u/cTHOmFWK/f98KnLIltqdQX3rvrUvu3sD/YX9b0Ks1qY+tGbLotsSeWl\nXP/xm/b3qkzDfdEeWZPm8O8+u2u9yyLbyOI8ntm13u4nbvmkDIm0Wn16tBbHtAtCiR3NBRpnq5EE\nj03Tz46jgWUDD2a96bGB5YRK7fbaYpyvN5T3qgBwjXGeOUg/O/b36lAuD776uMf3aop+ZtsN9/cb\nycvZqzHhSLwoD48g0RYHrMYH39svON/0WrPfmy8c0wIcLNQGlmp21eVOi78WoTSwvG2CrYGlDgJs\nEDh+vVehneXaKvya1JG7+p9uz4SLlFY62BZG1cSMe/uNCkoSBoS+DzioTTnj41PkKaec2+J2hp3r\nXzZDYnkp/XdvI/poDTVR0WT3Huiz28HfesDdCnI5f+saYmtrqI6MZvlJo3x2O3Q4Pjg3bXVZVVDs\nABTmFfk1PrW6gsF5e4mtO0p1RBSbMnr47HbI6OHfV96k8lL679lGdE0NNdHRZPca6LPbocPx6X7Z\n0kJRXnBqD69f8Z1f40cW53HDgZ3ENdRTFRbOnC7+1YJYvWaRpqacsbEJsk+f4T6N/eWXlZpsBYox\nA0bx8a4dGpwUtD86ZvLGmCuDYqs9UhybwIpewelpXpaYzJohRmpioKxNzQh68R1n1J5woUzAi3BC\niC5CiO+EEDuEENlCiLv0vDADAwMDrbTnOOAG4F4p5S+2VsybhBArm7ZpNjAwMGgtgtnyKhACFmAp\n5SHgkO15pRBiJ0qXUEOADQwMQgAJIV4PWJc4YCFEV2AQsMHNsVuEED8LIX6ur6/Vw5yBgYGBT0gf\n//mCEGKcEGK3EGKvEOJBN8f/JoTYJoTYLIRYLYTo5+2cmhfhhBBxwCLgbimlS6qSrbXzbICEhDQZ\nHR2n1aRXIqIiW9yGStf+JwTNVt7eg0GxY+vqGhRSOqUEzVZiWuBJGv4SrPcKIHfXgaDYOZSfExQ7\neqHnIpwQwgzMAMagJA9sFEJkNXG5zpdSvmEbPxGlTf04T+fVNAMWQoSjiO8HUspPvY03MDAwCCY6\nLsINBfZKKXOklHXAAuDiJracJ6Cx4H1qHfAMWCjTpLeBnVLK/wV6HgMDA4OWQfpT5yFNCOHcQn62\n7du7Sgbg/FUjFxjW9CRCiNuAfwARwDnejGpxQYwCrgG2CSE22/Y9ZOscamBgYNDq+BEFUaRHIoaU\ncgYwQwhxFfAIcJ2n8VqiIFYDujkLV456p9H2favgoTUQaYFaM/znDHjxdMfxMWuu18t0i/J4yfWN\ntr112v13yjtBvb5AmJX8L7/GTyt9JmBbryf41+X47xX+dVE+1hiS9xtX7NlATH0dR8IjWNB7BJs6\nn9gith4t+JPJVSWYAQvwQXwqT3c4vkVsuUPnRIw8oIvTdqZtX3MswF3hkiaEXCbc1E3w1peKsqvq\nHtMA07+GF76Gmy6CuYNb8woDw+i0a9Ca9D+8n0fWf0GE1dJo1vTQT19SZzLz1PCLydZJHG8ryuPu\n8sOA4zNsBq6vLOb6ymJeSuzAjLRgZMjp2hNuI9BTCNENRXgnAVc5DxBC9JRS/mbbnAD8hhdCSoCn\nboK3beIrcfVgm1COW4QtALmN0LESDk13vC6rENRFRBJRV4tJysZdkYMXFKCZhidNmK1Kbdey2ASK\nE5JIrSgjqbpC+QP6hH62vM1s/Z0pH0v0P7yfJ9d+6uhUbDJTGRFFfN1RIqwWIq0Wnlz7KY+OupQd\n6dpEWBVf58+wxCHEAri7/DAWIXgjtbMmW74gdaqYJKVsEELcDixH+XsyR0qZLYR4EvhZSpkF3C6E\nOA+oB0rx4n6AEBPgt5zE96ekTjw6xBHB8Z+Nyxhalo8A5mbBuDGtdZX+89oSx+v6fPKNbBtxhv3Y\nwHU/8pcP3+bEUpixGHa0oUqSZquV2rBwpl92M/s7Ob6dHZ9/gHsXvYlyHxq0No+s/8LeqfiZ4RPZ\n1Km7/djg/Bz+tT4LE/Doui+YPPEOTbacxXdOQirPOAn6vwr3c0NFMQK4t6wgOAKsY5qxbX1rSZN9\njzk997scQ8gUZL9vVfPiC/DokHH8nNjR/tf06Z+WtsJV+o9zV+Sm4guwbcQZZE2+3t5p9+R137fK\ndQaCBBfxBdjfqQsvXnqTfbvrof1BvjIDlSF5vxFhtSBxFV+ATZ2688zQi5ROFlYLgw/+HrCtRwv+\nBNyLL8Az6cfzTnyq/Zvtw4db+r6QWK1Wnx6tRcgI8ENrHF9TmoqvysNDL7AL8OBy3/q5tTZqp10p\nhIv4qmwZcZa90+5ZS74I8hUGTllsgov4quw7zvHhO+//2zv3IKnqK49/Tjc9A8PADIYMhEHDJBAf\nqxAjKj4KqWBKQAWLxBQWUkHd5J/EjTGl5aPW+FiNhdkUW1uprTWKk1UKV5EiRF6rbFjiBoUoxgcP\nAVlhZoDhNS9mmO7pPvvH7dvdMz0z/bi37+3p/D7U1Ezfe+lzbs/t79w+v/PY9Y5XLhn68P3P3rMm\nUASCaeJr8/6ErxMOBBFg0b5387Z1R8fpxHu4r/ja2ItwAixuL2wbTTOSKAfKo9kdFykaj7PDnrQb\nLhu8Os+etBsKD51y7VOjB5/0bDPyXGeBPTEMREV8AGZ7hmGl9v4KB+0CgvHvmT702/uDgx7lDqXc\nDc1VuoNWtkMmQsXdWyMNe9JuWQZhtSftRjIIdTHxpbbBJz3bnB1eUWBPDAPRGR8BPyo+lWIg7P2d\nofyvvyiWqGbKTbX3Z3nP5YiS7QfsNs9cl/zL+NTOTf0e8/SOjYk48ftV47xyzRH2pF1R5bLtf+r3\nmGnbtyYm7W6dt6DfY4qR6rNtXHCs/z4EqXHfty+/vt9jDIXntW9cnYzvDtDL4Yqmg4k48asXZjdB\noj9WVZ6XeA8/fKL/+K4d91WsvODConYcIvOXTxSNAP9qZjJd5aqWY2mLbE/v2Mj01uMJAX70qrk+\neJk7qVORb1v1Ytoi27TtW5m/qj4xafev18zyw828EODnb/w2bZFt0tHD/GzNC4nHqfFgg7fsrJ2S\niO8+/O66tEW2K5oO8vCOPyTjxA6KMp4aZzWmEuDutlNpi2yPNh9mafupxB2wF0UZbnZDKwRFE4IA\nq8jCzgOe3nqcTW/VEwlYYQe7MEOBu+YDXb66mhPJqcgw7z/riXxYn5i0O2+fdV72pN0f++1sDlh5\nvhHSCn7GwMMZG/HlhsnzzZ9/mrGAJ/+8hgDJwovUPGD7ffXUNc4/fS2vqkmkotmFF33zgBX45+rC\nf4JVhVjMi0BH/hTNHTBYFW733JocNhsAymNJJ2PA0vnwH96MBHMNe9Lu6oshoNak3Ufesb4H1Np+\n7T3xSbsGg8t8WnMBj127kO6AtexVHosy9txZyuPi1B0IulKEAfCbsbUsr6pJ3FMK1vvXFmBbfL3I\nAbaa8RT3IpynU5FHjx6rM2bcmtWxT+/Y2CvV7P2qcVmHHaZ/+5q8/MuH4SNzW7SYtn0rszb8nlC4\nm0hZOVvnLcg67FCs/YAnHT3MjbveYeS5Ts4Or+Dty6/POuwQCHp3DzB+knfrBiebvJlUDLn1A76i\n6SCL9r1LRaSbzlA5r144I+uww0cf/09Ofj3afJjF7afy7gVx8OAuR5OKy8qGa01Ndv26Gxs/82Uq\nctEKsBOKWYCdUKwC7AQjwM7xqiF7rgLsFDcE+MtZ3tU3Ne03Y+kNBoPBTfwsssgGI8AGg6E08TnF\nLBuMABsMhpJEgZi5AzYYDAZ/MCGIFLq62ti16+2C2wkEvKgyt2htPeGZrVOnBmvA7x7hDGWrblLj\nQupTtpz/xcWe2TrqoKtYrni1kH76tHeTnt3B3xSzbDB3wAaDoWQpdgEuqkIMg8FgcAt7JpxbhRgi\nMkdE9onIARF5qJ/994vIbhH5SES2iEjGJGQjwAaDoURRNBbN6isTIhIEfgPMBS4B7hCRvgX3u4Dp\nqjoVWA0sy/S8RRuCePPUUa7U5AuzXYLc9qWv+OhR8bN/8fs5HT9lZX7TTb+469Ocjv/qS3+Xlx2A\nnbfkNvnkyjfzb9K05rJf93q87Xm4LiXs+adamPXD5OOFH9+ft62+LG7Yy5LGg5RpjLAEqK+dwqsT\nv+H4ed+dsy6n42dsmu/Ypk1tLMrccDdVGqNVAmwsK6fRw/UZwM1GO1cBB1T1cwAReRVYAOxO2FL9\nY8rx7wJ3ZnrSohPg+jPHmRe1Zoml1mNdq1GaTzawIRhi6Zih0YrSMDRZ8wrcdsD6OfUanNkIscdh\n7WRYmPGtlR03HzvEI4c+6mVruMa498ge7j2yh2fqprJ+fJ07xjyiJhZlWWc7N0e6ezVd/2VXO+tD\n5TxYMYpmj4Q4hxjwWBH5S8rj51X1+ZTHtUBqyWEDcPUgz3cPkPHuoagE2BbfgaYiCzAvGuHFM83c\nM6bGeweHCOHHIYT1+h0PhmgMlVEbCTMu/tq6Na049niyu9U5hJZAkOpYlOGo61ORj/xyBBO7u4iI\nsK26hsPllVzQ3cENLc0MU3XNli2+g12Dtx2A11fCqqnObNnim2orghCKWxXgkUMfEUXYNH6SI1up\nv6u+uPm7qolF2dh+hrpYlDCwPlTO/uAwpkR7mBvpZn6km8vae5gzagwnPBDhHAT4pFulyCJyJzAd\nuCHTsUUlwKni+05gGAvPG5/Yt+b0Ma6P9SDArdGwXy4OCUJAlwiLay/kkxEjE9sv7TrLysZ9ZB4a\nkx32pN27v3w+WytGJ7bP6mxjxQl3+xNM7O5iT8VoHpj8LZrLRiS214S7eO7AB0CbK3ZSxfdA5Xk8\ndNPSxL5nN9czOT737Lv7nQtwqvguv+ASXq+dkth3e+N+7ju8GwH+8dBfHQuwbWdT9XievOiqxPbH\n9u5gTssxR8+dyrLOdupiUT4MDuPOymqaUkR2QizKKx0tfDPaw3Od7SytzG6kVb5YC2yu5QE3AqkD\nECfGt/UiPpb+UeAGVc0436loFuHePHUU6F98ARaeN54/SzAhHWvjxxvSUUgTX4BPRoxkSW0yrji1\nq8Oxnb7iC7C1YjQ/HJu8VmefdS6OEZE08QVoLhvBA5OT/Ulrwvk3it4W/8DZn/gCPHTTUj6vHJO4\nBpdtfilvW4sb9iZs9RVfgNdrp/Cv51+csLWo4bO8bdl2+oovwJMXXcVbKb15n9j7Xt42amNRbo50\nE4Y08QVoCgRZUllNBLg50k2tB716XcyC2AlMEZE6ESkDFgG9Auwicjnw78B8VW3O5kmLRoCv1Ggi\nBtZXfG3sRTgBrtHibrTsJ8eDoTTxtfloRLLp8N0tziZLn0PSxNdmy8jk9vtas7oWB2VbdU2a+Nqk\nbp/Zkr+t65qScdi+4mvz4E13AdZxdR1n8ra1pPFgwlZf8bWxF+EEWNq0P29bNn3F1+YXFyVDmbMd\nXBNzw1bMd1OoPE18bRoDQTaGygkCczwYQOvWWHpV7QF+AmwG9gCvqeqnIvKkiNgrl88BlcDrIvKh\niGRcAS2qEITBHRrjgxgzURV19kesJcsY3ugsLvBMHC7Prlv96J6IY1teUBb/aBzJMMIyglCGUubC\na5gNThqRVsXPaX9wcFk5EAxCBKq9KBN2sRBDVTcAG/pseyzl5xtzfU4jwCVIbSS7GHlr0NkiSHWW\nHyHbAs4/aF3QnV24pG1YyLEtLwhLgOEaSyy4DYS9P+zCa5gNTuSqVSwfp0QHH28+Of6Hv0UKfU6K\nUty9IIomBLEzJb675nT/iwJrU+LE28XbfMKhxLhohEu7zva7LzXuu8LhXK7hKLM6+4/vpsZ9l1c5\nz1iZ2dI8YHw3dfu26vxt/e+EpAA9u7m+32PsuK8ChyrH5G3r5dqvJ2zd3th/eMGO+ypQP6H/MEUu\nPLZ3R7/bU+O+WxxcExvLyokCcyLdTBjgj3NtLMrcSDdRYFNZYYcZuF0JVwiKRoBvSYnvXh/rSVtk\nW3vqKNemxIlNUcbACLCycV/aItvUrg5ebkwu5qTGg/O1s+LEkbRFttln2/jtyWQWRGo8OF9Cqjx3\n4IM0EU5mQVgMFCfOhpk/sr4LMLnjdNoi27LNL/G1jjOJa9COB+fDyokXJWzdd3h32iLboobPuPfI\nnoQtp0UZAsxpOZa2yPbE3vf4TkrcNzUenCuNgSDrQ+WUAa90tKQtstXGorzc0UIIKz3Ni6KMYhfg\nogpBbAiGEqloduFFKnYqzR+C2cU4/1axcjoV2Ndr+37gDdftQO/8dFgR/3ITy1YbsDVt33oX7ayd\nnExF+1rHGVa/0bs6zr4G33B+Q8ozdVMTqWh24UXfPGAFnqqb5thW8nd1nNTF+5vmOH7qXjxYMYrL\n2nv4ZrSHD1pPsjFUzoFgkMlR6843BBwKBHmgYpS7hgfANOPJgaVjxrEhmIyKScoXJMXXFGEYCsXC\nOy0RHuwafGMK3L7Yua314+t4pm5qL1tl8SIW29ZTddMc5wB7SXMgyNxRY1gXKicAzI90c/+5TuZH\nugkA60LlnhVhgBKLRbP68gtPh3KGQmVanWWMae2po71SzXLpBXHFFTfl5V8+FHM/4KldHdzdcpyq\naJTWYJAV1eOyCjvk2g949tk27mttZnQsRlsgwPKqmqzDDrn2A64JdzGzpZnRPRHahoUGTU/ry/lf\nza0f8LLNL/VKNTtUOSbrsEOu/YAXNXzG0qb9lMVihAMB6idk3wsil/fwE3vfY3bL8cTd9ZbqcVmH\nHfbtyy1HuDYWZU64m2qN0SIBNuXYC+LMmeOOBmWKBHRYlouyPT3h0p+KnIsAO8EIsDNKtiF7jgLs\nhFJsyJ6rADvFFQHOkBJn0xON+CLAjkIQmfpjGgwGg39o1v/8Iu9FuJT+mN/B6gy0U0TWqeruwf+n\nwWAweEMpz4TL2B/TYDAY/CSbMmM/yTsGLCLfA+ao6t/HHy8BrlbVn/Q57kdAPMOSS4FP8ne3KBkL\nnPTbiQJgzmvoUIrnBHChquadryYim7Bem2w4qaouJ+VlpuB5wPGmxs8DiMhf/Ah0F5JSPCcw5zWU\nKMVzAuu8nPx/PwQ1V5wswmXVH9NgMBgM/eNEgDP2xzQYDAbDwOQdglDVHhGx+2MGgRWqmmla4/MZ\n9g9FSvGcwJzXUKIUzwlK97wSeFqIYTAYDIYkRdULwmAwGP6WMAJsMBgMPuGJAJdiybKInC8ifxSR\n3SLyqYj81G+f3EJEgiKyS0Te9NsXtxCRahFZLSJ7RWSPiFzjt09uICI/i19/n4jIKhEZ7rdPuSIi\nK0SkWUQ+Sdl2noi8JSL749/z735fxBRcgFNKlucClwB3iMglhbbrAT3Az1X1EmAG8OMSOS+An2IN\nHiwl/gXYpKoXAdMogfMTkVrgH4Dpqnop1mL4In+9yot6oG/O7kPAFlWdAmyJPy45vLgDTpQsq2oY\nsEuWhzSqelRVP4j/3I71hq711yvniMhE4GbgBb99cQsRqQJmAi8CqGpYVVv89co1hgEjRGQYUAE0\n+exPzqjqNuB0n80LgN/Ff/4dcJunTnmEFwJcS++RCQ2UgFClIiKTgMsBb/v1FYblwINQ5NMMc6MO\nOAG8FA+tvCAiI/12yimq2gj8CjgMHAVaVfW//PXKNcapqj2X7BhQ+D62PmAW4RwiIpVYk37uU9X+\nJ1QOEUTkFqBZVd/32xeXGQZ8C/g3Vb0cOEsJfKSNx0UXYP2BmQCMFJE7/fXKfdTKlS3JfFkvBLhk\nS5ZFJIQlvitVdY3f/rjAdcB8Efk/rFDRt0XkFX9dcoUGoEFV7U8oq7EEeahzI3BIVU+oagRYA1zr\ns09ucVxEvgIQ/97ssz8FwQsBLsmSZRERrJjiHlX9dabjhwKq+rCqTlTVSVi/p/9W1SF/R6Wqx4Aj\nInJhfNNsSqNt6mFghohUxK/H2ZTA4mKcdcAP4j//APi9j74UDC+6oeVTsjwUuA5YAnwsIh/Gtz2i\nqht89MkwMPcCK+M3AZ8D+c+ULxJU9T0RWQ18gJWVs4shWL4rIquAWcBYEWkAfgE8C7wmIvcAXwDf\n98/DwmFKkQ0Gg8EnzCKcwWAw+IQRYIPBYPAJI8AGg8HgE0aADQaDwSeMABsMBoNPGAE2GAwGnzAC\nbDAYDD7x/2QGIxhMvNnqAAAAAElFTkSuQmCC\n",
      "text/plain": [
       "<matplotlib.figure.Figure at 0x1c57e31b780>"
      ]
     },
     "metadata": {},
     "output_type": "display_data"
    }
   ],
   "source": [
    "bone()\n",
    "pcolor(som.distance_map().T)\n",
    "colorbar()\n",
    "# adding the markers\n",
    "# red represents the customers who didn't get approval\n",
    "# green represnts the customers who got the approval\n",
    "markers = ['o', 's'] # marker shape\n",
    "colors = ['r', 'g'] # marker color\n",
    "# looping over all the customers and each customer will get a winning node apply the colormap \n",
    "# based on whether the customer get approval or not\n",
    "for i, x in enumerate(X): # i is the looping the value, x is the actual customer vector\n",
    "    w = som.winner(x)# fining the winning node for specific customer\n",
    "    # 'winner' method returns the x & y coordinate of the winning node\n",
    "    # plotting the marker\n",
    "    plot(w[0] + 0.5, w[1] + 0.5, # coordinate of markers(center of the winning node)\n",
    "         # since 'winner' return s the lower-left corner of the winning node, we want to add 0.5 to make it to the center\n",
    "         markers[y[i]], # y specifies whether a customer got approval or not\n",
    "         # y[i] returns either 0 or 1(whether a customer is approved or not) \n",
    "         # and then marker shape is applied based on the returned value\n",
    "         markeredgecolor = colors[y[i]], # color of the marker is applied just like the shape of the marker\n",
    "         markerfacecolor = 'None', # coloring only the edge\n",
    "         markersize = 10,\n",
    "         markeredgewidth = 2         \n",
    "    )    \n",
    "show()"
   ]
  },
  {
   "cell_type": "markdown",
   "metadata": {},
   "source": [
    "#### Finding the Frauds"
   ]
  },
  {
   "cell_type": "code",
   "execution_count": 19,
   "metadata": {
    "collapsed": false
   },
   "outputs": [],
   "source": [
    "# Using the SOM to catch the fraud applicants\n",
    "# Explicit list of customers who potentially cheated\n",
    "mappings = som.win_map(X) # getting the mappings(mapping between winning node and customer)\n",
    "# returns a dictionary of all the mappings from winning node to customers"
   ]
  },
  {
   "cell_type": "code",
   "execution_count": 22,
   "metadata": {
    "collapsed": false
   },
   "outputs": [
    {
     "name": "stdout",
     "output_type": "stream",
     "text": [
      "[(4, 6)]\n"
     ]
    }
   ],
   "source": [
    "# Finding the white pixels in the map\n",
    "mapping = som.distance_map().T\n",
    "all_coordinates = {}\n",
    "i_counter = 0\n",
    "for i in mapping:\n",
    "    counter_x = 0\n",
    "    for x in i:\n",
    "        value = x\n",
    "        coordinate = (counter_x,i_counter)\n",
    "        all_coordinates[coordinate] = value\n",
    "        counter_x += 1\n",
    "    i_counter += 1\n",
    "white = []\n",
    "for x in all_coordinates.keys():\n",
    "    if all_coordinates[x] >= 0.95: # thereshold of whiteness\n",
    "        white.append(x)\n",
    "\n",
    "print(white)"
   ]
  },
  {
   "cell_type": "code",
   "execution_count": 23,
   "metadata": {
    "collapsed": true
   },
   "outputs": [],
   "source": [
    "frauds = mappings[(4,6)]\n",
    "# need to concatenate all white coordinates if there are more than one white blocks\n",
    "# i.e np.concatenate((mappings[1st coordinate], mappings[2nd coordinate] and so on), axis = 0)"
   ]
  },
  {
   "cell_type": "code",
   "execution_count": 24,
   "metadata": {
    "collapsed": true
   },
   "outputs": [],
   "source": [
    "# this results the scaled customer info\n",
    "# applying inverse transform to get the original values\n",
    "frauds = sc.inverse_transform(frauds)"
   ]
  },
  {
   "cell_type": "markdown",
   "metadata": {},
   "source": [
    "# Artificial Neural Net"
   ]
  },
  {
   "cell_type": "markdown",
   "metadata": {},
   "source": [
    "#### Creating Matrix of Feature for ANN Model"
   ]
  },
  {
   "cell_type": "code",
   "execution_count": 25,
   "metadata": {
    "collapsed": false
   },
   "outputs": [],
   "source": [
    "customers = dataset.iloc[:, 1:].values # everything except customerID"
   ]
  },
  {
   "cell_type": "markdown",
   "metadata": {},
   "source": [
    "#### Creating the Dependent Variable\n",
    "Here the dependent variable is created using the information we gained from the SOM part"
   ]
  },
  {
   "cell_type": "code",
   "execution_count": 26,
   "metadata": {
    "collapsed": true
   },
   "outputs": [],
   "source": [
    "is_fraud = np.zeros(len(dataset))\n",
    "for i in range(len(dataset)):\n",
    "    if dataset.iloc[i, 0] in frauds: # checking each customers if they belog to list of fraud and assigining 1 if they did\n",
    "        is_fraud[i] = 1"
   ]
  },
  {
   "cell_type": "code",
   "execution_count": 27,
   "metadata": {
    "collapsed": true
   },
   "outputs": [],
   "source": [
    "# Feature scaling \n",
    "from sklearn.preprocessing import StandardScaler\n",
    "sc = StandardScaler()\n",
    "customers = sc.fit_transform(customers)"
   ]
  },
  {
   "cell_type": "markdown",
   "metadata": {},
   "source": [
    "#### Building ANN"
   ]
  },
  {
   "cell_type": "code",
   "execution_count": 28,
   "metadata": {
    "collapsed": false
   },
    {
     "data": {
      "text/plain": [
       "<keras.callbacks.History at 0x1c502bed160>"
      ]
     },
     "execution_count": 28,
     "metadata": {},
     "output_type": "execute_result"
    }
   ],
   "source": [
    "# Importing Keras libraries and packages\n",
    "import keras\n",
    "from keras.models import Sequential\n",
    "from keras.layers import Dense\n",
    "\n",
    "# Initializing the ANN\n",
    "classifier = Sequential()\n",
    "\n",
    "# Adding the input layer and the first hidden layer\n",
    "# we will have 15 input nodes(for 15 independent variables)\n",
    "# The best activation function could be rectifier function for the hidden layer and sigmoid function for the output layer\n",
    "# We will also be able to find the rank of probability that customer is fraudulent\n",
    "classifier.add(Dense(output_dim = 6,# number of nodes in the hidden layer being added. \n",
    "                     # Usual practice is to take an average of number of layers in i/p layer and o/p layers. \n",
    "                     # Or performance tuning by K-fold cross validation \n",
    "init = 'uniform' , # initialize the weights to small number close to 0\n",
    "activation = 'relu', # rectifier activation function for hidden layer\n",
    "input_dim = 15 # number of nodes in th i/p layer( # of independent variable)\n",
    ")) # all the NN parameters are defined here\n",
    "\n",
    "# Adding the output layer\n",
    "classifier.add(Dense(output_dim = 1, # since we are expecting binary output, we need 1 output node. \n",
    "init = 'uniform', \n",
    "activation = 'sigmoid' # sigmoid activation function for output layer\n",
    "# for muti-value output categories, we need output_dim = number of categories and activation = 'soft_max'\n",
    "# soft_max is similar to sigmoid function but applied to dependent varibale that has more than 2 categories\n",
    ")) \n",
    "\n",
    "# Compiling the ANN\n",
    "# Applying stochastic gradient descent in the entire NN\n",
    "classifier.compile(\n",
    "optimizer = 'adam', # algorithm to find optimal set of weights for NN\n",
    "loss = 'binary_crossentropy', # loss function within the stochastic gradient descent algorithm (i.e. in 'adam' algorithm\n",
    "# binary_crossentropy -> for binary o/p and categorical_crossentropy -> for categorical o/p\n",
    "metrics = ['accuracy'] # accuracy criterion to evaluate the model\n",
    ")\n",
    "\n",
    "# Fitting the ANN to the Training set\n",
    "classifier.fit(customers, is_fraud, \n",
    "batch_size = 1, # whether to update the weights after each observation or after a batch of obobservation ckpropagation\n",
    "nb_epoch = 10 # defines number of iterations\n",
    "# for both batch_size and nb_epoch, no optimal value by default. Need to find the best value by experimentation \n",
    "# or performance tuning\n",
    ")"
   ]
  },
  {
   "cell_type": "markdown",
   "metadata": {},
   "source": [
    "#### Predicting the Fraud Probabilities"
   ]
  },
  {
   "cell_type": "code",
   "execution_count": 29,
   "metadata": {
    "collapsed": true
   },
   "outputs": [],
   "source": [
    "y_pred = classifier.predict(customers)\n",
    "# combining the customer ID and predicted probability\n",
    "y_pred = np.concatenate((dataset.iloc[:, 0:1], y_pred), axis = 1) # dataset.iloc[:, 0:1] = customerID\n",
    "# indexing 0:1 gives 2D array instead of a vector\n",
    "# sorting the customers based on probability of fraud\n",
    "y_pred = y_pred[y_pred[:, 1].argsort()]"
   ]
  },
  {
   "cell_type": "code",
   "execution_count": 30,
   "metadata": {
    "collapsed": false
   },
   "outputs": [
    {
     "data": {
      "text/plain": [
       "array([[  1.57684740e+07,   3.83975324e-10],\n",
       "       [  1.55946510e+07,   1.30214450e-09],\n",
       "       [  1.57064640e+07,   4.29174252e-09],\n",
       "       ..., \n",
       "       [  1.57565380e+07,   5.32821119e-01],\n",
       "       [  1.55938340e+07,   5.32821119e-01],\n",
       "       [  1.56605280e+07,   5.32821119e-01]])"
      ]
     },
     "execution_count": 30,
     "metadata": {},
     "output_type": "execute_result"
    }
   ],
   "source": [
    "y_pred"
   ]
  },
  {
   "cell_type": "code",
   "execution_count": null,
   "metadata": {
    "collapsed": true
   },
   "outputs": [],
   "source": []
  }
 ],
 "metadata": {
  "anaconda-cloud": {},
  "kernelspec": {
   "display_name": "Python [conda root]",
   "language": "python",
   "name": "conda-root-py"
  },
  "language_info": {
   "codemirror_mode": {
    "name": "ipython",
    "version": 3
   },
   "file_extension": ".py",
   "mimetype": "text/x-python",
   "name": "python",
   "nbconvert_exporter": "python",
   "pygments_lexer": "ipython3",
   "version": "3.5.2"
  }
 },
 "nbformat": 4,
 "nbformat_minor": 1
}
